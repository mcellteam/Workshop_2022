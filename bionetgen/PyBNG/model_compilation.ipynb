{
 "cells": [
  {
   "cell_type": "code",
   "execution_count": 1,
   "metadata": {},
   "outputs": [],
   "source": [
    "# Don't forget to execute this cell\n",
    "import bionetgen as pybng\n",
    "import matplotlib.pyplot as plt\n",
    "import numpy as np\n",
    "import seaborn as sns\n",
    "import pandas as pd\n",
    "from scipy.optimize import minimize"
   ]
  },
  {
   "cell_type": "code",
   "execution_count": 2,
   "metadata": {},
   "outputs": [
    {
     "name": "stdout",
     "output_type": "stream",
     "text": [
      "BioNetGen version 2.8.3\n",
      "Reading from file /var/folders/tg/bhsjlfgx1wq0l_x5sqgjgjz80000gn/T/tmpd0unorm4/SIR.bngl (level 0)\n",
      "Read 5 parameters.\n",
      "Read 3 molecule types.\n",
      "Read 3 species.\n",
      "Read 3 observable(s).\n",
      "Read 2 reaction rule(s).\n",
      "Wrote model in xml format to ./SIR.xml.\n",
      "Finished processing file /var/folders/tg/bhsjlfgx1wq0l_x5sqgjgjz80000gn/T/tmpd0unorm4/SIR.bngl.\n",
      "CPU TIME: total 0.00 s.\n"
     ]
    },
    {
     "name": "stderr",
     "output_type": "stream",
     "text": [
      "\u001b[33mWARNING:BNGCLI:from: /Users/faeder/opt/anaconda3/lib/python3.9/site-packages/bionetgen/core/tools/cli.py : BNGCLI.run() : Overwriting file /Users/faeder/Library/CloudStorage/OneDrive-UniversityofPittsburgh/BioNetGen/Workshop_2022/bionetgen/PyBNG/SIR.bngl\u001b[0m\n"
     ]
    },
    {
     "name": "stdout",
     "output_type": "stream",
     "text": [
      "BioNetGen version 2.8.3\n",
      "Reading from file /var/folders/tg/bhsjlfgx1wq0l_x5sqgjgjz80000gn/T/tmp_kqq185f/SIR.bngl (level 0)\n",
      "Read 5 parameters.\n",
      "Read 3 molecule types.\n",
      "Read 3 species.\n",
      "Read 3 observable(s).\n",
      "Read 2 reaction rule(s).\n",
      "ACTION: generate_network( SIR )\n",
      "Iteration   0:     3 species      0 rxns  0.00e+00 CPU s\n",
      "Iteration   1:     3 species      2 rxns  0.00e+00 CPU s\n",
      "Cumulative CPU time for each rule\n",
      "Rule   1:     1 reactions 0.00e+00 CPU s 0.00e+00 CPU s/rxn\n",
      "Rule   2:     1 reactions 0.00e+00 CPU s 0.00e+00 CPU s/rxn\n",
      "Total   :     2 reactions 0.00e+00 CPU s 0.00e+00 CPU s/rxn\n",
      "Wrote network in net format to ./SIR.net.\n",
      "CPU TIME: generate_network 0.00 s.\n",
      "Wrote model in xml format to ./SIR.xml.\n",
      "Finished processing file /var/folders/tg/bhsjlfgx1wq0l_x5sqgjgjz80000gn/T/tmp_kqq185f/SIR.bngl.\n",
      "CPU TIME: total 0.00 s.\n",
      "BioNetGen version 2.8.3\n",
      "Reading from file /Users/faeder/Library/CloudStorage/OneDrive-UniversityofPittsburgh/BioNetGen/Workshop_2022/bionetgen/PyBNG/SIR.bngl (level 0)\n",
      "Read 5 parameters.\n",
      "Read 3 molecule types.\n",
      "Read 3 species.\n",
      "Read 3 observable(s).\n",
      "Read 2 reaction rule(s).\n",
      "ACTION: generate_network( SIR )\n",
      "WARNING: Removing old network file ./SIR.net.\n",
      "Iteration   0:     3 species      0 rxns  0.00e+00 CPU s\n",
      "Iteration   1:     3 species      2 rxns  0.00e+00 CPU s\n",
      "Cumulative CPU time for each rule\n",
      "Rule   1:     1 reactions 0.00e+00 CPU s 0.00e+00 CPU s/rxn\n",
      "Rule   2:     1 reactions 0.00e+00 CPU s 0.00e+00 CPU s/rxn\n",
      "Total   :     2 reactions 0.00e+00 CPU s 0.00e+00 CPU s/rxn\n",
      "Wrote network in net format to ./SIR.net.\n",
      "CPU TIME: generate_network 0.00 s.\n",
      "Wrote Cpyfile ./SIR_cvode_py.c.\n",
      "CPU TIME: writeCPYfile 0.00 s.\n",
      "Finished processing file /Users/faeder/Library/CloudStorage/OneDrive-UniversityofPittsburgh/BioNetGen/Workshop_2022/bionetgen/PyBNG/SIR.bngl.\n",
      "CPU TIME: total 0.01 s.\n"
     ]
    },
    {
     "name": "stderr",
     "output_type": "stream",
     "text": [
      "ld: warning: object file (/Users/faeder/Downloads/BioNetGen-2.8.3/lib/libsundials_cvode.a(cvode_dense.o)) was built for newer macOS version (10.15) than being linked (10.9)\n",
      "ld: warning: object file (/Users/faeder/Downloads/BioNetGen-2.8.3/lib/libsundials_cvode.a(cvode.o)) was built for newer macOS version (10.15) than being linked (10.9)\n",
      "ld: warning: object file (/Users/faeder/Downloads/BioNetGen-2.8.3/lib/libsundials_cvode.a(cvode_io.o)) was built for newer macOS version (10.15) than being linked (10.9)\n",
      "ld: warning: object file (/Users/faeder/Downloads/BioNetGen-2.8.3/lib/libsundials_nvecserial.a(nvector_serial.o)) was built for newer macOS version (10.15) than being linked (10.9)\n",
      "ld: warning: object file (/Users/faeder/Downloads/BioNetGen-2.8.3/lib/libsundials_cvode.a(sundials_direct.o)) was built for newer macOS version (10.15) than being linked (10.9)\n",
      "ld: warning: object file (/Users/faeder/Downloads/BioNetGen-2.8.3/lib/libsundials_cvode.a(sundials_dense.o)) was built for newer macOS version (10.15) than being linked (10.9)\n",
      "ld: warning: object file (/Users/faeder/Downloads/BioNetGen-2.8.3/lib/libsundials_cvode.a(sundials_nvector.o)) was built for newer macOS version (10.15) than being linked (10.9)\n",
      "ld: warning: object file (/Users/faeder/Downloads/BioNetGen-2.8.3/lib/libsundials_cvode.a(sundials_math.o)) was built for newer macOS version (10.15) than being linked (10.9)\n",
      "ld: warning: object file (/Users/faeder/Downloads/BioNetGen-2.8.3/lib/libsundials_cvode.a(cvode_direct.o)) was built for newer macOS version (10.15) than being linked (10.9)\n"
     ]
    }
   ],
   "source": [
    "# change stuff here\n",
    "file_to_run = \"SIR.bngl\"\n",
    "model = pybng.bngmodel(file_to_run) # get a fresh version of the model \n",
    "sim = model.setup_simulator(sim_type=\"cpy\")"
   ]
  },
  {
   "cell_type": "code",
   "execution_count": 5,
   "metadata": {},
   "outputs": [
    {
     "name": "stdout",
     "output_type": "stream",
     "text": [
      "PARAMS must be a column vector with 3 elements."
     ]
    }
   ],
   "source": [
    "result = sim.simulate()"
   ]
  },
  {
   "cell_type": "code",
   "execution_count": 8,
   "metadata": {},
   "outputs": [
    {
     "data": {
      "text/plain": [
       "<function tuple.index(value, start=0, stop=9223372036854775807, /)>"
      ]
     },
     "execution_count": 8,
     "metadata": {},
     "output_type": "execute_result"
    }
   ],
   "source": [
    "result.index"
   ]
  },
  {
   "cell_type": "code",
   "execution_count": null,
   "metadata": {},
   "outputs": [],
   "source": []
  }
 ],
 "metadata": {
  "kernelspec": {
   "display_name": "Python 3.9.7 ('base')",
   "language": "python",
   "name": "python3"
  },
  "language_info": {
   "codemirror_mode": {
    "name": "ipython",
    "version": 3
   },
   "file_extension": ".py",
   "mimetype": "text/x-python",
   "name": "python",
   "nbconvert_exporter": "python",
   "pygments_lexer": "ipython3",
   "version": "3.9.7"
  },
  "orig_nbformat": 4,
  "vscode": {
   "interpreter": {
    "hash": "b3031166d6fc5a032f991d7c86aca46f0be1c4925f5dccf7ca5f5833832da46d"
   }
  }
 },
 "nbformat": 4,
 "nbformat_minor": 2
}
