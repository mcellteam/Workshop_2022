{
 "cells": [
  {
   "cell_type": "code",
   "execution_count": 1,
   "metadata": {},
   "outputs": [],
   "source": [
    "# Don't forget to execute this cell\n",
    "import os \n",
    "import bionetgen as pybng\n",
    "import matplotlib.pyplot as plt\n",
    "import numpy as np \n",
    "workdir = os.path.abspath(os.getcwd())"
   ]
  },
  {
   "cell_type": "markdown",
   "metadata": {},
   "source": [
    "# Model parsing\n",
    "\n",
    "PyBNG also comes with basic BNGL parsing capabilities. This method of parsing involves generating an intermediary file so it has a small overhead due to the file I/O. We are working on a much better parsing solution using C++ and that will become the default way to parse models in the future. This creates a simple model object that allows some basic programmatic manipulation of the model."
   ]
  },
  {
   "cell_type": "code",
   "execution_count": 2,
   "metadata": {},
   "outputs": [
    {
     "name": "stdout",
     "output_type": "stream",
     "text": [
      "BioNetGen version 2.8.3\n",
      "Reading from file /tmp/tmp9kabe_0d/SIR.bngl (level 0)\n",
      "Read 4 parameters.\n",
      "Read 3 molecule types.\n",
      "Read 3 species.\n",
      "Read 3 observable(s).\n",
      "Read 2 reaction rule(s).\n",
      "Wrote model in xml format to ./SIR.xml.\n",
      "Finished processing file /tmp/tmp9kabe_0d/SIR.bngl.\n",
      "CPU TIME: total 0.03 s.\n"
     ]
    }
   ],
   "source": [
    "# let's load the model same model we have been running\n",
    "model = pybng.bngmodel(\"SIR.bngl\")"
   ]
  },
  {
   "cell_type": "markdown",
   "metadata": {},
   "source": [
    "This model object is written with BNGL in mind, so printing the model or individual blocks will give you the BNGL representation of that portion of the model."
   ]
  },
  {
   "cell_type": "code",
   "execution_count": 3,
   "metadata": {},
   "outputs": [
    {
     "name": "stdout",
     "output_type": "stream",
     "text": [
      "begin model\n",
      "\n",
      "begin parameters\n",
      "  N 100\n",
      "  I0 1\n",
      "  b 0.018\n",
      "  g 1\n",
      "end parameters\n",
      "\n",
      "begin molecule types\n",
      "  I()\n",
      "  R()\n",
      "  S()\n",
      "end molecule types\n",
      "\n",
      "begin species\n",
      "  S() 99\n",
      "  I() 1\n",
      "  R() 0\n",
      "end species\n",
      "\n",
      "begin observables\n",
      "  Molecules S S()\n",
      "  Molecules I I()\n",
      "  Molecules R R()\n",
      "end observables\n",
      "\n",
      "begin reaction rules\n",
      "  R1: S() + I() -> I() + I() b \n",
      "  R2: I() -> R() g \n",
      "end reaction rules\n",
      "\n",
      "end model\n",
      "\n",
      "generate_network({overwrite=>1})\n",
      "simulate({method=>\"ode\",t_end=>50,n_steps=>1000})\n",
      "\n",
      "begin parameters\n",
      "  N 100\n",
      "  I0 1\n",
      "  b 0.018\n",
      "  g 1\n",
      "end parameters\n",
      "\n"
     ]
    }
   ],
   "source": [
    "print(model) # this will print the entire model\n",
    "\n",
    "print(model.parameters) # this will print the parameters block"
   ]
  },
  {
   "cell_type": "markdown",
   "metadata": {},
   "source": [
    "The model is also written with python in mind and the objects behave in a pythonic manner whenever possible. For more information, please check the model documentation [here](https://pybionetgen.readthedocs.io/en/latest/bngmodel.html)"
   ]
  },
  {
   "cell_type": "code",
   "execution_count": 4,
   "metadata": {},
   "outputs": [
    {
     "name": "stdout",
     "output_type": "stream",
     "text": [
      "parameters\n",
      "Looping over block: parameters\n",
      "parameter name: N, value: N 100\n",
      "parameter name: I0, value: I0 1\n",
      "parameter name: b, value: b 0.018\n",
      "parameter name: g, value: g 1\n",
      "molecule types\n",
      "species\n",
      "observables\n",
      "Looping over block: observables\n",
      "observable name: S, patterns: [S()], type: Molecules\n",
      "observable name: I, patterns: [I()], type: Molecules\n",
      "observable name: R, patterns: [R()], type: Molecules\n",
      "reaction rules\n",
      "actions\n"
     ]
    }
   ],
   "source": [
    "for block in model:\n",
    "    print(block.name)\n",
    "    if block.name == \"parameters\":\n",
    "        print(f\"Looping over block: {block.name}\")\n",
    "        for param in block:\n",
    "            print(f\"parameter name: {param}, value: {model.parameters[param]}\")\n",
    "    elif block.name == \"observables\": \n",
    "        print(f\"Looping over block: {block.name}\")\n",
    "        for obs in block:\n",
    "            o = block[obs]\n",
    "            print(f\"observable name: {o.name}, patterns: {o.patterns}, type: {o.type}\")"
   ]
  },
  {
   "cell_type": "markdown",
   "metadata": {},
   "source": [
    "### Running the model object directly\n",
    "\n",
    "You can run the model object directly. This returns a BNGResult object which we will talk about next. "
   ]
  },
  {
   "cell_type": "code",
   "execution_count": 5,
   "metadata": {},
   "outputs": [],
   "source": [
    "result = pybng.run(model, suppress=True)"
   ]
  },
  {
   "cell_type": "code",
   "execution_count": 6,
   "metadata": {},
   "outputs": [
    {
     "name": "stdout",
     "output_type": "stream",
     "text": [
      "gdats from 1 models: SIR \n",
      "cdats from 1 models: SIR \n"
     ]
    }
   ],
   "source": [
    "print(result)"
   ]
  },
  {
   "cell_type": "markdown",
   "metadata": {},
   "source": [
    "### Results object\n",
    "\n",
    "This object will read all `gdat/cdat/scan` files that it finds in the folder where the model was ran and read it into `numpy record arrays`. You can access the `gdat` files by directly indexing the results object with \n",
    "\n",
    "```\n",
    "results[0]\n",
    "```\n",
    "\n",
    "or you can access individual objects using `gdats/cdats/scans` attributes\n",
    "\n",
    "```\n",
    "results.gdats['model_name'][0]\n",
    "results.cdats['model_name'][0]\n",
    "results.scans['model_name'][0]\n",
    "```\n",
    "\n",
    "you can print the results object to see what's stored in side with `print(results)`. "
   ]
  },
  {
   "cell_type": "code",
   "execution_count": 7,
   "metadata": {},
   "outputs": [
    {
     "name": "stdout",
     "output_type": "stream",
     "text": [
      "This is the results object:\n",
      "gdats from 1 models: SIR \n",
      "cdats from 1 models: SIR \n",
      "            --             \n",
      "First gdat record array:\n",
      "[(0.  , 99.        , 1.        , 0.        )\n",
      " (0.05, 98.90917811, 1.03983223, 0.05098966)]\n",
      "            --             \n",
      "Also the first gdat record array:\n",
      "[(0.  , 99.        , 1.        , 0.        )\n",
      " (0.05, 98.90917811, 1.03983223, 0.05098966)]\n",
      "            --             \n",
      "First cdat record array:\n",
      "[(0.  , 99.        , 1.        , 0.        )\n",
      " (0.05, 98.90917811, 1.03983223, 0.05098966)]\n",
      "            --             \n"
     ]
    }
   ],
   "source": [
    "print(\"This is the results object:\")\n",
    "print(result) # this gives you a summary of what's stored in the object\n",
    "print(\"            --             \")\n",
    "print(\"First gdat record array:\")\n",
    "print(result.gdats[\"SIR\"][:2]) # you can look at gdats file via the gdats attribute\n",
    "print(\"            --             \")\n",
    "print(\"Also the first gdat record array:\")\n",
    "print(result[0][:2]) # or by indexing which defaults to loaded gdat files\n",
    "print(\"            --             \")\n",
    "print(\"First cdat record array:\")\n",
    "print(result.cdats[\"SIR\"][:2]) # for other types of files you need to manually select the correct attribute\n",
    "print(\"            --             \")"
   ]
  },
  {
   "cell_type": "markdown",
   "metadata": {},
   "source": [
    "You can index these record arrays with observable names. This allows for quick plotting of results or doing analysis on the time series generated by BNG. \n",
    "\n",
    "Let's plot each time series that is loaded in. "
   ]
  },
  {
   "cell_type": "code",
   "execution_count": 8,
   "metadata": {},
   "outputs": [
    {
     "name": "stdout",
     "output_type": "stream",
     "text": [
      "('time', 'S', 'I', 'R')\n"
     ]
    },
    {
     "data": {
      "image/png": "[encoded data removed]",
      "text/plain": [
       "<Figure size 432x288 with 1 Axes>"
      ]
     },
     "metadata": {
      "needs_background": "light"
     },
     "output_type": "display_data"
    }
   ],
   "source": [
    "# let's pull the first gdat file\n",
    "r = result[0] # let's get the gdat record array\n",
    "print(r.dtype.names) # this will print the names of the observables you can select\n",
    "# now we can loop over each observable name and plot them\n",
    "for name in r.dtype.names:\n",
    "    # we don't want to plot time\n",
    "    if name != \"time\":\n",
    "        # plot the observable values over time\n",
    "        plt.plot(r['time'], r[name], label=name)\n",
    "# label everything\n",
    "plt.xlabel(\"time\")\n",
    "plt.ylabel(\"species (counts)\")\n",
    "_ = plt.legend(frameon=False)"
   ]
  },
  {
   "cell_type": "markdown",
   "metadata": {},
   "source": [
    "Simple manipulations of the model object is possible, particularly static values (e.g. parameter values, compartment sizes, initial species counts). This allows for some simple analyses that can be done using this API. \n",
    "\n",
    "Please note that this is a fairly inefficient implementation for complicated analyses since this process reads and writes files which doesn't scale well for larger number of simulations. We will talk more about more efficient ways to implement analyses at the end of this section as well as in the advanced topics lesson."
   ]
  },
  {
   "cell_type": "code",
   "execution_count": 9,
   "metadata": {},
   "outputs": [
    {
     "data": {
      "image/png": "[encoded data removed]",
      "text/plain": [
       "<Figure size 432x288 with 1 Axes>"
      ]
     },
     "metadata": {
      "needs_background": "light"
     },
     "output_type": "display_data"
    }
   ],
   "source": [
    "# change stuff here\n",
    "parameter_to_change = \"b\"\n",
    "observable_to_plot = \"S\"\n",
    "\n",
    "# don't touch here\n",
    "model.actions.clear_actions()\n",
    "model.add_action(\"simulate\", action_args={\"method\":'\"ode\"',\"t_end\":50,\"n_steps\":300})\n",
    "for i in [0.01,0.0125,0.015]:\n",
    "    model.parameters[parameter_to_change].expr = i\n",
    "    # run can also take a model object as an argument\n",
    "    # you can also suppress BNG output by using the keyword argument \"suppress\"\n",
    "    result = pybng.run(model, suppress=True)\n",
    "    plt.plot(result[0]['time'], result[0][observable_to_plot], label=f\"${observable_to_plot} for I_{0}$ = \"+f\"{i}\")\n",
    "_ = plt.xlabel(\"time\")\n",
    "_ = plt.ylabel(f\"{observable_to_plot} (counts)\")\n",
    "_ = plt.legend(frameon=False)"
   ]
  },
  {
   "cell_type": "markdown",
   "metadata": {},
   "source": [
    "PyBNG also allows for programmatically working with different sections of the model. Let's load in a more complicated model and see how it works."
   ]
  },
  {
   "cell_type": "code",
   "execution_count": 10,
   "metadata": {},
   "outputs": [
    {
     "name": "stdout",
     "output_type": "stream",
     "text": [
      "BioNetGen version 2.8.3\n",
      "Reading from file /tmp/tmp_goxekdu/egfr_simple.bngl (level 0)\n",
      "Read 19 parameters.\n",
      "Read 4 molecule types.\n",
      "Read 4 species.\n",
      "Read 6 observable(s).\n",
      "Read 7 reaction rule(s).\n",
      "Wrote model in xml format to ./egfr_simple.xml.\n",
      "Finished processing file /tmp/tmp_goxekdu/egfr_simple.bngl.\n",
      "CPU TIME: total 0.05 s.\n",
      "\n",
      "begin reaction rules\n",
      "  lrbind: EGFR(L,CR1) + EGF(R) <-> EGFR(L!1,CR1).EGF(R!1) kp1,km1 \n",
      "  rdim: EGFR(L!+,CR1) + EGFR(L!+,CR1) <-> EGFR(L!+,CR1!1).EGFR(L!+,CR1!1) kp2,km2 \n",
      "  tphos: EGFR(CR1!+,Y1068~U) -> EGFR(CR1!+,Y1068~P) kp3 \n",
      "  dephos: EGFR(Y1068~P) -> EGFR(Y1068~U) km3 \n",
      "  egfr_grb2: EGFR(Y1068~P) + Grb2(SH2) <-> EGFR(Y1068~P!1).Grb2(SH2!1) kp4,km4 \n",
      "  grb2_sos1: Grb2(SH3) + Sos1(PxxP) <-> Grb2(SH3!1).Sos1(PxxP!1) kp5,km5 \n",
      "  rint: EGF(R!1).EGF(R!2).EGFR(L!1,CR1!3).EGFR(L!2,CR1!3) -> 0 deg \n",
      "end reaction rules\n",
      "\n"
     ]
    }
   ],
   "source": [
    "egfr = pybng.bngmodel(\"egfr_simple.bngl\")\n",
    "print(egfr.rules)"
   ]
  },
  {
   "cell_type": "markdown",
   "metadata": {},
   "source": [
    "For example PyBNG allows you to loop over everything included in a rule and each pattern"
   ]
  },
  {
   "cell_type": "code",
   "execution_count": 11,
   "metadata": {},
   "outputs": [
    {
     "name": "stdout",
     "output_type": "stream",
     "text": [
      "####\n",
      "Rule: lrbind: EGFR(L,CR1) + EGF(R) <-> EGFR(L!1,CR1).EGF(R!1) kp1,km1 \n",
      "  Reactants:\n",
      "    Reactant: EGFR(L,CR1)\n",
      "      Molecule: EGFR(L,CR1), name: EGFR\n",
      "        Component: L, name: L, state: None\n",
      "        Component: CR1, name: CR1, state: None\n",
      "    Reactant: EGF(R)\n",
      "      Molecule: EGF(R), name: EGF\n",
      "        Component: R, name: R, state: None\n",
      "  Products:\n",
      "    Product: EGF(R)\n",
      "      Molecule: EGF(R), name: EGF\n",
      "        Component: R, name: R, state: None\n",
      "####\n",
      "Rule: rdim: EGFR(L!+,CR1) + EGFR(L!+,CR1) <-> EGFR(L!+,CR1!1).EGFR(L!+,CR1!1) kp2,km2 \n",
      "  Reactants:\n",
      "    Reactant: EGFR(L!+,CR1)\n",
      "      Molecule: EGFR(L!+,CR1), name: EGFR\n",
      "        Component: L!+, name: L, state: None\n",
      "        Component: CR1, name: CR1, state: None\n",
      "    Reactant: EGFR(L!+,CR1)\n",
      "      Molecule: EGFR(L!+,CR1), name: EGFR\n",
      "        Component: L!+, name: L, state: None\n",
      "        Component: CR1, name: CR1, state: None\n",
      "  Products:\n",
      "    Product: EGFR(L!+,CR1)\n",
      "      Molecule: EGFR(L!+,CR1), name: EGFR\n",
      "        Component: L!+, name: L, state: None\n",
      "        Component: CR1, name: CR1, state: None\n",
      "####\n",
      "Rule: tphos: EGFR(CR1!+,Y1068~U) -> EGFR(CR1!+,Y1068~P) kp3 \n",
      "  Reactants:\n",
      "    Reactant: EGFR(CR1!+,Y1068~U)\n",
      "      Molecule: EGFR(CR1!+,Y1068~U), name: EGFR\n",
      "        Component: CR1!+, name: CR1, state: None\n",
      "        Component: Y1068~U, name: Y1068, state: U\n",
      "  Products:\n",
      "    Product: EGFR(CR1!+,Y1068~U)\n",
      "      Molecule: EGFR(CR1!+,Y1068~U), name: EGFR\n",
      "        Component: CR1!+, name: CR1, state: None\n",
      "        Component: Y1068~U, name: Y1068, state: U\n",
      "####\n",
      "Rule: dephos: EGFR(Y1068~P) -> EGFR(Y1068~U) km3 \n",
      "  Reactants:\n",
      "    Reactant: EGFR(Y1068~P)\n",
      "      Molecule: EGFR(Y1068~P), name: EGFR\n",
      "        Component: Y1068~P, name: Y1068, state: P\n",
      "  Products:\n",
      "    Product: EGFR(Y1068~P)\n",
      "      Molecule: EGFR(Y1068~P), name: EGFR\n",
      "        Component: Y1068~P, name: Y1068, state: P\n",
      "####\n",
      "Rule: egfr_grb2: EGFR(Y1068~P) + Grb2(SH2) <-> EGFR(Y1068~P!1).Grb2(SH2!1) kp4,km4 \n",
      "  Reactants:\n",
      "    Reactant: EGFR(Y1068~P)\n",
      "      Molecule: EGFR(Y1068~P), name: EGFR\n",
      "        Component: Y1068~P, name: Y1068, state: P\n",
      "    Reactant: Grb2(SH2)\n",
      "      Molecule: Grb2(SH2), name: Grb2\n",
      "        Component: SH2, name: SH2, state: None\n",
      "  Products:\n",
      "    Product: Grb2(SH2)\n",
      "      Molecule: Grb2(SH2), name: Grb2\n",
      "        Component: SH2, name: SH2, state: None\n",
      "####\n",
      "Rule: grb2_sos1: Grb2(SH3) + Sos1(PxxP) <-> Grb2(SH3!1).Sos1(PxxP!1) kp5,km5 \n",
      "  Reactants:\n",
      "    Reactant: Grb2(SH3)\n",
      "      Molecule: Grb2(SH3), name: Grb2\n",
      "        Component: SH3, name: SH3, state: None\n",
      "    Reactant: Sos1(PxxP)\n",
      "      Molecule: Sos1(PxxP), name: Sos1\n",
      "        Component: PxxP, name: PxxP, state: None\n",
      "  Products:\n",
      "    Product: Sos1(PxxP)\n",
      "      Molecule: Sos1(PxxP), name: Sos1\n",
      "        Component: PxxP, name: PxxP, state: None\n",
      "####\n",
      "Rule: rint: EGF(R!1).EGF(R!2).EGFR(L!1,CR1!3).EGFR(L!2,CR1!3) -> 0 deg \n",
      "  Reactants:\n",
      "    Reactant: EGF(R!1).EGF(R!2).EGFR(L!1,CR1!3).EGFR(L!2,CR1!3)\n",
      "      Molecule: EGF(R!1), name: EGF\n",
      "        Component: R!1, name: R, state: None\n",
      "      Molecule: EGF(R!2), name: EGF\n",
      "        Component: R!2, name: R, state: None\n",
      "      Molecule: EGFR(L!1,CR1!3), name: EGFR\n",
      "        Component: L!1, name: L, state: None\n",
      "        Component: CR1!3, name: CR1, state: None\n",
      "      Molecule: EGFR(L!2,CR1!3), name: EGFR\n",
      "        Component: L!2, name: L, state: None\n",
      "        Component: CR1!3, name: CR1, state: None\n",
      "  Products:\n",
      "    Product: EGF(R!1).EGF(R!2).EGFR(L!1,CR1!3).EGFR(L!2,CR1!3)\n",
      "      Molecule: EGF(R!1), name: EGF\n",
      "        Component: R!1, name: R, state: None\n",
      "      Molecule: EGF(R!2), name: EGF\n",
      "        Component: R!2, name: R, state: None\n",
      "      Molecule: EGFR(L!1,CR1!3), name: EGFR\n",
      "        Component: L!1, name: L, state: None\n",
      "        Component: CR1!3, name: CR1, state: None\n",
      "      Molecule: EGFR(L!2,CR1!3), name: EGFR\n",
      "        Component: L!2, name: L, state: None\n",
      "        Component: CR1!3, name: CR1, state: None\n",
      "####\n"
     ]
    }
   ],
   "source": [
    "for rule in egfr.rules:\n",
    "    r = egfr.rules[rule]\n",
    "    print(\"####\")\n",
    "    print(f\"Rule: {r}\")\n",
    "    reactants = r.reactants\n",
    "    products = r.products\n",
    "    print(\"  Reactants:\")\n",
    "    for reactant in reactants:\n",
    "        print(f\"    Reactant: {reactant}\")\n",
    "        for molecule in reactant:\n",
    "            print(f\"      Molecule: {molecule}, name: {molecule.name}\")\n",
    "            for component in molecule:\n",
    "                print(f\"        Component: {component}, name: {component.name}, state: {component.state}\")\n",
    "    print(\"  Products:\")\n",
    "    for product in products:\n",
    "        print(f\"    Product: {reactant}\")\n",
    "        for molecule in reactant:\n",
    "            print(f\"      Molecule: {molecule}, name: {molecule.name}\")\n",
    "            for component in molecule:\n",
    "                print(f\"        Component: {component}, name: {component.name}, state: {component.state}\")\n",
    "print(\"####\")"
   ]
  },
  {
   "cell_type": "markdown",
   "metadata": {},
   "source": [
    "### Using BNGResult to load in gdat/cdat/scan files\n",
    "\n",
    "We can also use the result object to load in multiple gdat/cdat/scan files at the same time"
   ]
  },
  {
   "cell_type": "code",
   "execution_count": 12,
   "metadata": {},
   "outputs": [
    {
     "name": "stdout",
     "output_type": "stream",
     "text": [
      "gdats from 3 models: egfr_simple_ssa egfr_simple_nf egfr_simple_ode \n",
      "cdats from 2 models: egfr_simple_ssa egfr_simple_ode \n"
     ]
    }
   ],
   "source": [
    "from bionetgen.core.tools import BNGResult\n",
    "all_results = BNGResult(\"data/.\")\n",
    "print(all_results)"
   ]
  },
  {
   "cell_type": "code",
   "execution_count": 13,
   "metadata": {},
   "outputs": [
    {
     "name": "stdout",
     "output_type": "stream",
     "text": [
      "('time', 'Sos1_act', 'EGFR_tot', 'Lig_free', 'Dim', 'RP', 'Grb2Sos1')\n",
      "('time', 'Sos1_act', 'EGFR_tot', 'Lig_free', 'Dim', 'RP', 'Grb2Sos1')\n",
      "('time', 'Sos1_act', 'EGFR_tot', 'Lig_free', 'Dim', 'RP', 'Grb2Sos1')\n"
     ]
    },
    {
     "data": {
      "image/png": "[encoded data removed]",
      "text/plain": [
       "<Figure size 432x288 with 1 Axes>"
      ]
     },
     "metadata": {
      "needs_background": "light"
     },
     "output_type": "display_data"
    }
   ],
   "source": [
    "observable_to_plot = \"Dim\"\n",
    "# loop over all gdat files\n",
    "for gname in all_results.gnames:\n",
    "    r = all_results.gdats[gname]\n",
    "    print(r.dtype.names) # this will print the names of the observables you can select\n",
    "    # plot a single series\n",
    "    plt.plot(r['time'][:100], r[observable_to_plot][:100], label=f\"{observable_to_plot} from {gname}\")\n",
    "    # now we can loop over each observable name and plot them\n",
    "    # for name in r.dtype.names:\n",
    "    #     # we don't want to plot time\n",
    "    #     if name != \"time\":\n",
    "    #         # plot the observable values over time\n",
    "    #         plt.plot(r['time'], r[name], label=name)\n",
    "    # break\n",
    "# label everything\n",
    "plt.ylim((5.e4,6.2e4))\n",
    "plt.xlim((0,30))\n",
    "plt.xlabel(\"time\")\n",
    "plt.ylabel(\"species (counts)\")\n",
    "_ = plt.legend(frameon=False)"
   ]
  },
  {
   "cell_type": "markdown",
   "metadata": {},
   "source": [
    "### Alternative compiled simulator"
   ]
  },
  {
   "cell_type": "code",
   "execution_count": 14,
   "metadata": {},
   "outputs": [
    {
     "name": "stdout",
     "output_type": "stream",
     "text": [
      "BioNetGen version 2.8.3\n",
      "Reading from file /tmp/tmptlc8h95y/SIR.bngl (level 0)\n",
      "Read 4 parameters.\n",
      "Read 3 molecule types.\n",
      "Read 3 species.\n",
      "Read 3 observable(s).\n",
      "Read 2 reaction rule(s).\n",
      "Wrote model in xml format to ./SIR.xml.\n",
      "Finished processing file /tmp/tmptlc8h95y/SIR.bngl.\n",
      "CPU TIME: total 0.03 s.\n"
     ]
    },
    {
     "name": "stderr",
     "output_type": "stream",
     "text": [
      "\u001b[33mWARNING:BNGCLI:from: /home/boltzmann/PyBioNetGen/bionetgen/core/tools/cli.py : BNGCLI.run() : Overwriting file /home/boltzmann/workshop_temp_folder/Workshop_2022/bionetgen/PyBNG/advanced_session/SIR_cpy.bngl\u001b[0m\n"
     ]
    },
    {
     "name": "stdout",
     "output_type": "stream",
     "text": [
      "BioNetGen version 2.8.3\n",
      "Reading from file /tmp/tmpni8ym_0h/SIR_cpy.bngl (level 0)\n",
      "Read 4 parameters.\n",
      "Read 3 molecule types.\n",
      "Read 3 species.\n",
      "Read 3 observable(s).\n",
      "Read 2 reaction rule(s).\n",
      "ACTION: generate_network( SIR_cpy )\n",
      "Iteration   0:     3 species      0 rxns  0.00e+00 CPU s\n",
      "Iteration   1:     3 species      2 rxns  2.00e-02 CPU s\n",
      "Cumulative CPU time for each rule\n",
      "Rule   1:     1 reactions 2.00e-02 CPU s 2.00e-02 CPU s/rxn\n",
      "Rule   2:     1 reactions 0.00e+00 CPU s 0.00e+00 CPU s/rxn\n",
      "Total   :     2 reactions 2.00e-02 CPU s 1.00e-02 CPU s/rxn\n",
      "Wrote network in net format to ./SIR_cpy.net.\n",
      "CPU TIME: generate_network 0.02 s.\n",
      "Wrote model in xml format to ./SIR_cpy.xml.\n",
      "Finished processing file /tmp/tmpni8ym_0h/SIR_cpy.bngl.\n",
      "CPU TIME: total 0.03 s.\n",
      "BioNetGen version 2.8.3\n",
      "Reading from file /home/boltzmann/workshop_temp_folder/Workshop_2022/bionetgen/PyBNG/advanced_session/SIR_cpy.bngl (level 0)\n",
      "Read 4 parameters.\n",
      "Read 3 molecule types.\n",
      "Read 3 species.\n",
      "Read 3 observable(s).\n",
      "Read 2 reaction rule(s).\n",
      "ACTION: generate_network( SIR_cpy )\n",
      "WARNING: Removing old network file ./SIR_cpy.net.\n",
      "Iteration   0:     3 species      0 rxns  0.00e+00 CPU s\n",
      "Iteration   1:     3 species      2 rxns  2.00e-02 CPU s\n",
      "Cumulative CPU time for each rule\n",
      "Rule   1:     1 reactions 2.00e-02 CPU s 2.00e-02 CPU s/rxn\n",
      "Rule   2:     1 reactions 0.00e+00 CPU s 0.00e+00 CPU s/rxn\n",
      "Total   :     2 reactions 2.00e-02 CPU s 1.00e-02 CPU s/rxn\n",
      "Wrote network in net format to ./SIR_cpy.net.\n",
      "CPU TIME: generate_network 0.02 s.\n",
      "Wrote Cpyfile ./SIR_cpy_cvode_py.c.\n",
      "CPU TIME: writeCPYfile 0.00 s.\n",
      "Finished processing file /home/boltzmann/workshop_temp_folder/Workshop_2022/bionetgen/PyBNG/advanced_session/SIR_cpy.bngl.\n",
      "CPU TIME: total 0.03 s.\n",
      "\n",
      "begin parameters\n",
      "  N 100\n",
      "  I0 1\n",
      "  b 0.018\n",
      "  g 1\n",
      "end parameters\n",
      "\n"
     ]
    },
    {
     "data": {
      "image/png": "[encoded data removed]",
      "text/plain": [
       "<Figure size 432x288 with 1 Axes>"
      ]
     },
     "metadata": {
      "needs_background": "light"
     },
     "output_type": "display_data"
    }
   ],
   "source": [
    "os.chdir(workdir)\n",
    "SIR = pybng.bngmodel(\"SIR.bngl\")\n",
    "csim_SIR = SIR.setup_simulator(sim_type=\"cpy\")\n",
    "\n",
    "print(csim_SIR.model.parameters)\n",
    "# csim_SIR.model.parameters.b = 0.02\n",
    "# csim_SIR.model.parameters.g = 0.5\n",
    "time, observables, species = csim_SIR.simulate(0,100,100)\n",
    "for name in observables.dtype.names:\n",
    "    # we don't want to plot time\n",
    "    if name != \"time\":\n",
    "        # plot the observable values over time\n",
    "        plt.plot(time, observables[name], label=name)\n",
    "# label everything\n",
    "plt.xlabel(\"time\")\n",
    "plt.ylabel(\"species (counts)\")\n",
    "_ = plt.legend(frameon=False)"
   ]
  },
  {
   "cell_type": "code",
   "execution_count": 15,
   "metadata": {},
   "outputs": [
    {
     "data": {
      "image/png": "[encoded data removed]",
      "text/plain": [
       "<Figure size 432x288 with 1 Axes>"
      ]
     },
     "metadata": {
      "needs_background": "light"
     },
     "output_type": "display_data"
    }
   ],
   "source": [
    "parameter_to_change = \"b\"\n",
    "observable_to_plot = \"S\"\n",
    "for i in [0.01,0.0125,0.015]:\n",
    "    csim_SIR.model.parameters[parameter_to_change].expr = i\n",
    "    # run can also take a model object as an argument\n",
    "    # you can also suppress BNG output by using the keyword argument \"suppress\"\n",
    "    time, obs, spc = csim_SIR.simulate(0,50,100)\n",
    "    plt.plot(time,obs[observable_to_plot], label=f\"${observable_to_plot} for I_{0}$ = \"+f\"{i}\")\n",
    "_ = plt.xlabel(\"time\")\n",
    "_ = plt.ylabel(f\"{observable_to_plot} (counts)\")\n",
    "_ = plt.legend(frameon=False)"
   ]
  },
  {
   "cell_type": "markdown",
   "metadata": {},
   "source": [
    "### Pattern parsing\n",
    "\n",
    "PyBNG also has basic pattern parsing from strings. This can come in handy when working with the species file or if you want to get the pattern as an object. "
   ]
  },
  {
   "cell_type": "code",
   "execution_count": 16,
   "metadata": {},
   "outputs": [
    {
     "name": "stdout",
     "output_type": "stream",
     "text": [
      "[EGF(R!1).EGFR(L!1,CR1!2,Y1068~P!3).EGFR(L!4,CR1!2,Y1068~P!5).Grb2(SH2!3,SH3!6).EGF(R!4).Grb2(SH2!5,SH3!7).Sos1(PxxP!6).Sos1(PxxP!7), EGF(R!1).EGFR(L!1,CR1!2,Y1068~P!3).EGFR(L!4,CR1!2,Y1068~P!5).Grb2(SH2!3,SH3!6).EGF(R!4).Grb2(SH2!5,SH3).Sos1(PxxP!6), EGF(R!1).EGFR(L!1,CR1!2,Y1068~P!3).EGFR(L!4,CR1!2,Y1068~P!5).Grb2(SH2!3,SH3).EGF(R!4).Grb2(SH2!5,SH3!6).Sos1(PxxP!6), EGF(R!1).EGFR(L!1,CR1!2,Y1068~P!3).EGFR(L!4,CR1!2,Y1068~P!5).Grb2(SH2!3,SH3).EGF(R!4).Grb2(SH2!5,SH3), EGF(R!1).EGFR(L!1,CR1!2,Y1068~P!3).EGFR(L!4,CR1!2,Y1068~P).Grb2(SH2!3,SH3!5).EGF(R!4).Sos1(PxxP!5), EGF(R!1).EGFR(L!1,CR1!2,Y1068~P!3).EGFR(L!4,CR1!2,Y1068~P).Grb2(SH2!3,SH3).EGF(R!4), EGF(R!1).EGFR(L!1,CR1!2,Y1068~P!3).EGFR(L!4,CR1!2,Y1068~U).Grb2(SH2!3,SH3!5).EGF(R!4).Sos1(PxxP!5), EGF(R!1).EGFR(L!1,CR1!2,Y1068~P!3).EGFR(L!4,CR1!2,Y1068~U).Grb2(SH2!3,SH3).EGF(R!4), EGF(R!1).EGFR(L!1,CR1!2,Y1068~P).EGFR(L!3,CR1!2,Y1068~P!4).EGF(R!3).Grb2(SH2!4,SH3!5).Sos1(PxxP!5), EGF(R!1).EGFR(L!1,CR1!2,Y1068~P).EGFR(L!3,CR1!2,Y1068~P!4).EGF(R!3).Grb2(SH2!4,SH3), EGF(R!1).EGFR(L!1,CR1!2,Y1068~P).EGFR(L!3,CR1!2,Y1068~P).EGF(R!3), EGF(R!1).EGFR(L!1,CR1!2,Y1068~P).EGFR(L!3,CR1!2,Y1068~U).EGF(R!3), EGF(R!1).EGFR(L!1,CR1!2,Y1068~U).EGFR(L!3,CR1!2,Y1068~P!4).EGF(R!3).Grb2(SH2!4,SH3!5).Sos1(PxxP!5), EGF(R!1).EGFR(L!1,CR1!2,Y1068~U).EGFR(L!3,CR1!2,Y1068~P!4).EGF(R!3).Grb2(SH2!4,SH3), EGF(R!1).EGFR(L!1,CR1!2,Y1068~U).EGFR(L!3,CR1!2,Y1068~P).EGF(R!3), EGF(R!1).EGFR(L!1,CR1!2,Y1068~U).EGFR(L!3,CR1!2,Y1068~U).EGF(R!3), EGF(R!1).EGFR(L!1,CR1,Y1068~P!2).Grb2(SH2!2,SH3!3).Sos1(PxxP!3), EGF(R!1).EGFR(L!1,CR1,Y1068~P!2).Grb2(SH2!2,SH3), EGF(R!1).EGFR(L!1,CR1,Y1068~P), EGF(R!1).EGFR(L!1,CR1,Y1068~U), EGF(R), EGFR(L,CR1,Y1068~P!1).Grb2(SH2!1,SH3!2).Sos1(PxxP!2), EGFR(L,CR1,Y1068~P!1).Grb2(SH2!1,SH3), EGFR(L,CR1,Y1068~P), EGFR(L,CR1,Y1068~U), Grb2(SH2,SH3!1).Sos1(PxxP!1), Grb2(SH2,SH3), Sos1(PxxP)]\n"
     ]
    }
   ],
   "source": [
    "from bionetgen.modelapi.pattern_reader import BNGPatternReader\n",
    "\n",
    "# the testing file\n",
    "species_file = os.path.join(\"data\", \"egfr_simple_nf.species\")\n",
    "with open(species_file, \"r+\") as f:\n",
    "    species = f.readlines()\n",
    "# loop over species\n",
    "patterns = []\n",
    "res = True\n",
    "for ipat, pat in enumerate(species):\n",
    "    if pat.startswith(\"#\"):\n",
    "        continue\n",
    "    pat_splt = pat.split(\"    \")\n",
    "    pat = pat_splt[0]\n",
    "    pat_obj = BNGPatternReader(pat).pattern\n",
    "    patterns.append(pat_obj)\n",
    "\n",
    "print(patterns)"
   ]
  }
 ],
 "metadata": {
  "kernelspec": {
   "display_name": "Python 3.9.7 ('base')",
   "language": "python",
   "name": "python3"
  },
  "language_info": {
   "codemirror_mode": {
    "name": "ipython",
    "version": 3
   },
   "file_extension": ".py",
   "mimetype": "text/x-python",
   "name": "python",
   "nbconvert_exporter": "python",
   "pygments_lexer": "ipython3",
   "version": "3.9.7"
  },
  "orig_nbformat": 4,
  "vscode": {
   "interpreter": {
    "hash": "f9203b2285d9d83e12d0d9b51136bfc7ea05e7146f90237c0550bfbb43331557"
   }
  }
 },
 "nbformat": 4,
 "nbformat_minor": 2
}
