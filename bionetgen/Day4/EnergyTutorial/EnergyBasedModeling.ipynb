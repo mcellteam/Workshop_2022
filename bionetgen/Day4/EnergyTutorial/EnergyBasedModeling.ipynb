{
 "cells": [
  {
   "cell_type": "markdown",
   "metadata": {},
   "source": [
    "# Energy-Based Modeling using BioNetGen\n",
    "\n",
    "Here, we introduce the energy-based extension to <b> BioNetGen (eBNG) </b>, in which kinetic parameters and cooperative effects are expressed compactly as free energy values associated with molecular patterns. eBNG is a superset of the BioNetGen language, hence any feature\n",
    "of BioNetGen may be included in an eBNG model. <br> <br>\n",
    "In this framework, reaction rate laws are automatically determined from reaction free energies such that detailed balance constraints are always satisfied. <br> <br>\n",
    "This tutorial describes the process of constructing an energy-based model in eBNG using the <b> receptor activation model </b>."
   ]
  },
  {
   "cell_type": "markdown",
   "metadata": {},
   "source": [
    "## eBNG Model Compartments\n",
    "An energy-based model, like other BioNetGen models, is specified in a plain text file with \".bngl\" extension. A model begins with the directive \n",
    "`begin model` and ends with  `end model`. <br>\n",
    "The model is composed of a set of blocks, which describe objects of a given type. Each block starts with the directive `begin <blockname>` on a new line, followed by a \n",
    "number of object definitions, and ends with `end <blockname>`. <br>\n",
    "\n",
    "In addition, energy models should include the  <b> <i> energy patterns </b> </i> block. The allowed blocks are, in recommended order: \n",
    "\n",
    "<ul>\n",
    "<li>molecule types</li>\n",
    "<li>compartments</li>\n",
    "<li>seed species</li>\n",
    "<li>observables</li>\n",
    "<li>functions</li>\n",
    "<li>energy patterns </li>\n",
    "<li>reaction rules</li>\n",
    "</ul>"
   ]
  },
  {
   "cell_type": "markdown",
   "metadata": {},
   "source": [
    "Blocks may be omitted if no object of the corresponding type is defined in the model. At the end of the model, a set of actions may be specified, such as `simulate()`,\n",
    "that are performed after the model is parsed by BioNetGen. <br>\n",
    "With the exception of the new energy patterns block, the syntax for each block is the same as plain BNGL."
   ]
  },
  {
   "cell_type": "markdown",
   "metadata": {},
   "source": [
    "## Preliminaries\n",
    "It is useful to tell BioNetGen the quantity units of the reference concentration for standard free energy. BNG is capable of adjusting free energy parameters for non-standard\n",
    "conditions using compartment volumes and the number of molecules per quantity unit. For example, if the reference quantity is `1 mole`, there are `NA` molecules per reference quantity.\n",
    "The quantity units are specified by setting the option `NumberPerQuantityUnit`: <br> \n",
    "<br>\n",
    " <blockquote> &ensp; &ensp;&ensp;  &ensp;    &ensp;   &ensp; &ensp;&ensp; &ensp;&ensp;  &ensp;    &ensp;   &ensp; &ensp;`setOption(\"NumberPerQuantityUnit\",6.0221e23)` </blockquote>\n"
   ]
  },
  {
   "cell_type": "markdown",
   "metadata": {},
   "source": [
    "### Model Parameters\n",
    "Model parameters, as well as math expressions derived from parameters, are defined in the parameters block. An energy model will typically be parameterized with free-energy\n",
    "parameters, rather than kinetic parameters. But otherwise, the block is no different than a plain BNGL model. You can see the parameters of the receptor activation model in `ReceptorActivation.bngl` file.\n",
    "<br>\n",
    "This model consists of different kinds of parameters including: <br>\n",
    "<ul>\n",
    "<li> <b> fundamental constants </b>:used to define some constant parameters in the model</li> <br>\n",
    "<li> <b> Geometry parameters </b>: used to specify volume of three different compartments in the model </li> <br>\n",
    "<li> <b> initial concentrations </b>: used to represent the initial concentration of model species</li> <br>\n",
    "<li> <b> standard free energy of formation </b>: used to determine free energies in the model </li> <br>\n",
    "<li> <b> baseline activation energy </b> : used to define activation energies in model reactions </li> <br>\n",
    "<li> <b> rate distribution </b>: this parameter is used to determine the value of rate distribution in the model  </li>\n",
    "</ul>\n",
    "<br>\n",
    "\n",
    "![Image1](Image1.png)\n",
    "<br><br>\n",
    "\n",
    "You could find more information about <b> <i> Energy Parameters </i> </b> a little further.\n"
   ]
  },
  {
   "cell_type": "markdown",
   "metadata": {},
   "source": [
    "### Model Compartments\n",
    "Compartments are recommended, but not required in an energy model. The benefit of using compartments, even for models with only one compartment, is that eBNGL is able to adjust the free-energy terms for non-standard concentrations. The receptor activation\n",
    "model has three compartments which you can find these compartments in the `ReceptorActivation.bngl` file, as well as their volumes: <br>\n",
    "<ol>\n",
    "<li>Extracellular space</li>\n",
    "<li>Plasma membrane</li>\n",
    "<li>Cytoplasm</li>\n",
    "</ol>\n",
    "\n",
    "![Image2](Image2.png)\n",
    "<br> <br>\n"
   ]
  },
  {
   "cell_type": "markdown",
   "metadata": {},
   "source": [
    "### Molecule Types\n",
    "It is recommended to name each molecule type in the molecule types block. Furthermore, the domain structure of macromolecules, including <i> binding domains, potential post-translational\n",
    "modifications, and conformational states, </i> should be described. The procedure for specifying molecule types is the same for energy models as plain BNGL.<br> \n",
    "\n",
    "you can find  `molecule types` in the  `ReceptorActivation.bngl`  file between  `begin molecule types`  and  `end molecule types` statements. In this model we have five \n",
    "species as follows:\n",
    " <blockquote> \n",
    " <ol>\n",
    " <br>\n",
    "\n",
    "<li><b> L(r): </b>  shows the ligand along with its binding site to the receptor </li> <br>\n",
    "\n",
    "<li> <b> R(l,d,y~0~P): </b> defines the receptor and its ligand-binding domain, dimerization domain, an  phosphorylation site</li> <br>\n",
    "\n",
    "<li> <b> Ph(y): </b> shows the cytosolic phosphotase and its interaction site to the receptor </li><br>\n",
    "\n",
    "<li> <b> ATP(): </b> represents the ATP molecule</li><br>\n",
    "\n",
    "<li> <b> ADP(): </b> represents the ADP molecule</li>\n",
    "</ol>\n",
    "<br>\n",
    "\n",
    " </blockquote>\n",
    "\n",
    "![Image3](Image3.png)\n",
    "<br> <br> \n",
    "\n"
   ]
  },
  {
   "cell_type": "markdown",
   "metadata": {},
   "source": [
    "### Seed Species\n",
    "The initial population of molecular species is specified in the `seed species` block.\n",
    "Each line in this block describes the structure of a molecular species (i.e. species pattern) and the initial quantity. In the receptor activation model, \n",
    "unbound, unphosphorylated transmembrane receptor is placed in the plasma membrane (PM); unbound phosphotase, ATP, and ADP are placed in the cytoplasm (CP),\n",
    "and free ligand is placed in the extracellular space (EC). <br> <br>\n",
    "The quantity of each species is specified in the `seed species` block as a function of initial concentrations which previously have been defined in `parameters` block.  <br><br>\n",
    "Observe that `ATP` and `ADP` are prefixed by the `$` symbol in `seed species` block The `$`  symbol\n",
    "indicates that the quantity of the species in held constant during the simulation. `ATP`  and\n",
    "`ADP` quantities are held constant in this model to mimic the cellular environment in which\n",
    "concentration of `ATP` and `ADP` are tightly regulated. <br>\n",
    "![Image4](Image4.png)\n",
    "<br> <br> "
   ]
  },
  {
   "cell_type": "markdown",
   "metadata": {},
   "source": [
    "### Model Outputs: Observables\n",
    "The `observables` block in an energy model has the same syntax and function as plain BNGL. Each item in the observables block specifies an output of the model. Observables are\n",
    "defined by a set of patterns that match species in the system. <br>\n",
    "The receptor activation model includes a variety of observables, such as: \n",
    " <blockquote> \n",
    "\n",
    "<br>\n",
    "<ul>\n",
    "<li> <b> Rbound </b>: shows the ligand-receptor compund</li>\n",
    "<br>\n",
    "<li> <b> Rdimer </b>: represents the dimerized receptor</li>\n",
    "<br>\n",
    "<li> <b> RyP </b>: shows the phosphorylated receptor</li>\n",
    "<br>\n",
    "<li> <b> RyP_Ph </b>: shows the receptor-phosphotase compund</li>\n",
    "\n",
    "</ul>\n",
    "<br>\n",
    "</blockquote> \n",
    "\n",
    "![Image5](Image5.png)\n",
    "<br> <br> "
   ]
  },
  {
   "cell_type": "markdown",
   "metadata": {},
   "source": [
    "### Energy patterns\n",
    "Energy patterns and the associated standard free energy of pattern formation parameters are specified in the `energy patterns` block. The syntax of each energy pattern is:\n",
    "<br>\n",
    "                                   <blockquote> &ensp; &ensp; &ensp;&ensp;  &ensp;    &ensp;   &ensp; &ensp;&ensp;&ensp;  &ensp;    &ensp;   &ensp; &ensp;`Pattern Expression` </blockquote>\n",
    "\n",
    "\n",
    "where  `Pattern` is a BNGL pattern graph that describes a molecule motif and `Expression` is a parameter name or constant math expression that specifies the standard free energy of\n",
    "pattern formation."
   ]
  },
  {
   "cell_type": "markdown",
   "metadata": {},
   "source": [
    "#### Computing species free energy\n",
    "The standard free energy of species formation, or species energy for brevity, quantifies the free energy cost of forming the species from\n",
    "<b> <i> atomic</b> </i>  constituents under standard conditions. In most cases, the <b> <i> atoms </b> </i> will be individual, unbound and unmodified macromolecules or other simple\n",
    "molecules like  `ATP`.\n",
    "<br>\n",
    "The species energy is a function of the energy patterns embedded in the molecular structure of the species. The energy is computed by counting the number of\n",
    "energy pattern matches in the species then computing the sum over matches weighted by the corresponding pattern energy.\n",
    "<br>\n",
    "There are several types of motifs represented in the model. \n",
    "1- Free energy is stored in three bond motifs: \n",
    "<br>\n",
    "<ul>\n",
    "<li> <b> G_LR </b>: ligand-receptor bond </li> <br>\n",
    "<li> <b> G_RR </b>: receptor dimerization bond  </li><br>\n",
    "<li> <b> G_RPh </b>:  interaction of the phosphotase (Ph) with the receptor tyrosine residue </li>\n",
    "<br>\n",
    "</ul>\n",
    "2- Energy is stored also in the phosphorylated receptor tyrosine residue and ATP molecules.\n",
    "<br>\n",
    "<ul>\n",
    "<li> <b> G_RyP </b>: phosphorylated receptor tyrosine residue free energy  </li><br>\n",
    "<li> <b> G_ATP </b>: ATP molecules free energy </li><br>\n",
    "<br>\n",
    "</ul>\n",
    "\n",
    "3- Free energy is stored in cooperativity among these motifs: \n",
    "<br>\n",
    "<ul>\n",
    "<li> <b> G_LRR </b>: association of a ligand to a receptor dimer </li> <br>\n",
    "<li> <b> G_LRRL </b>: the association of two ligands to a receptor dimer </li><br>\n",
    "<li> <b> G_RPh </b>:  interaction of a phosphorylated receptor and a cytocolic phosphotase </li>\n",
    "<br>\n",
    "</ul>\n",
    "\n",
    "Energy patterns are not required for sites in the unbound, unmodified state since this is assumed to be the reference. If an energy pattern is not defined for a bond or site modification, it\n",
    "is assumed that the change in free energy is zero with respect to the reference. <br><br>\n",
    "![Image6](Image6.png)\n",
    "<br> <br> \n",
    "\n",
    "\n"
   ]
  },
  {
   "cell_type": "markdown",
   "metadata": {},
   "source": [
    "### Reaction Rules\n",
    "Energy-based rules result in a model with fewer rules that are simple to read and write and satisfy detailed balance constraints. Energy-based rules are implemented in eBNG by assigning the\n",
    "<b> `Arrhenius` </b> rate law type. Unlike a plain BNGL rule, a single <b> `Arrhenius` </b>\n",
    "rate law is sufficient for the forward and reverse rule. Consider the following ligand-receptor\n",
    "binding rule in the receptor activation model:\n",
    "<br> <br>\n",
    "<blockquote> \n",
    "L(r) + R(l) <-> L(r!1).R(l!1)      &ensp; &ensp;&ensp;  &ensp;    &ensp;   &ensp; &ensp;       Arrhenius(phi,E0_LR)\n",
    "\n",
    "</blockquote> <br>"
   ]
  },
  {
   "cell_type": "markdown",
   "metadata": {},
   "source": [
    "The reactant patterns and product patterns follow the same syntax conventions as all BNGL\n",
    "rules. This is an energy-based rule since it has the <b> `Arrhenius` </b> rate law, which is sufficient for\n",
    "the forward and reverse reactions. <br>\n",
    "The reaction rules block with the complete set of energy-based rules for the receptor\n",
    "activation model is represented in the `ReceptorActivation.bngl` file. <br>\n",
    "![Image7](Image7.png)\n",
    "<br> <br> "
   ]
  },
  {
   "cell_type": "code",
   "execution_count": null,
   "metadata": {},
   "outputs": [],
   "source": []
  },
  {
   "cell_type": "markdown",
   "metadata": {},
   "source": [
    "### Energy parameters\n",
    "The kinetics of an energy model are derived from three types of parameters: <br>\n",
    "\n",
    " <ol>\n",
    " <br>\n",
    "\n",
    "<li> <b> G_ .. </b>: Standard free energy of pattern formation (for brevity, pattern free-energy)  which are paired with energy patterns in the energy patterns block. </li> <br>\n",
    "\n",
    "<li> <b> Ea_..</b>:  Baseline activation energy which are specified in the <b> <i>Arrhenius </b></i> type rate laws associated with each reaction rule</li> <br>\n",
    "\n",
    "<li> <b> phi </b>: Rate distribution parameters that are specified in the <b><i> Arrhenius </b></i> type rate laws associated with each reaction rule </li><br>\n",
    "\n",
    "</ol>\n",
    "<br>\n",
    "\n",
    "![Image8](Image8.png)\n",
    "\n"
   ]
  }
 ],
 "metadata": {
  "kernelspec": {
   "display_name": "Python 3.10.4 64-bit",
   "language": "python",
   "name": "python3"
  },
  "language_info": {
   "codemirror_mode": {
    "name": "ipython",
    "version": 3
   },
   "file_extension": ".py",
   "mimetype": "text/x-python",
   "name": "python",
   "nbconvert_exporter": "python",
   "pygments_lexer": "ipython3",
   "version": "3.8.9"
  },
  "orig_nbformat": 4,
  "vscode": {
   "interpreter": {
    "hash": "31f2aee4e71d21fbe5cf8b01ff0e069b9275f58929596ceb00d14d90e3e16cd6"
   }
  }
 },
 "nbformat": 4,
 "nbformat_minor": 2
}
